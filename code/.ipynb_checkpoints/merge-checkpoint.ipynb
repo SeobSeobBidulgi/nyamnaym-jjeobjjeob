{
 "cells": [
  {
   "cell_type": "code",
   "execution_count": 1,
   "id": "a28c24bc",
   "metadata": {},
   "outputs": [],
   "source": [
    "import pandas as pd\n",
    "import numpy as np\n",
    "import matplotlib.pyplot as plt\n",
    "import seaborn as sns"
   ]
  },
  {
   "cell_type": "code",
   "execution_count": 25,
   "id": "67e65897",
   "metadata": {},
   "outputs": [
    {
     "name": "stderr",
     "output_type": "stream",
     "text": [
      "/var/folders/qr/778czgkd1p7ch8wn4f6dmdkh0000gn/T/ipykernel_99928/3669310707.py:1: DtypeWarning: Columns (85,114,239,374,380,490,501,570,578,584,598,622,644,670,701,705,756,766,813,825,977,986,988,989,997,998,1113,1151) have mixed types. Specify dtype option on import or set low_memory=False.\n",
      "  df1 = pd.read_csv('/Users/seoihwan/Desktop/escuela/과기대/nyamnaym-jjeobjjeob/data/당뇨 추가/2008_HE_DB.csv')\n",
      "/var/folders/qr/778czgkd1p7ch8wn4f6dmdkh0000gn/T/ipykernel_99928/3669310707.py:2: DtypeWarning: Columns (85,114,187,240,375,381,502,645,671,702,706,767,814,826,1008,1017,1026,1028,1029,1035,1182) have mixed types. Specify dtype option on import or set low_memory=False.\n",
      "  df2 = pd.read_csv('/Users/seoihwan/Desktop/escuela/과기대/nyamnaym-jjeobjjeob/data/당뇨 추가/2009_HE_DB.csv',encoding='cp949')\n",
      "/var/folders/qr/778czgkd1p7ch8wn4f6dmdkh0000gn/T/ipykernel_99928/3669310707.py:3: DtypeWarning: Columns (123,197,203,209,272,289,347,368,428,458,656,685) have mixed types. Specify dtype option on import or set low_memory=False.\n",
      "  df3 = pd.read_csv('/Users/seoihwan/Desktop/escuela/과기대/nyamnaym-jjeobjjeob/data/당뇨 추가/2010_HE_DB.csv',encoding='cp949')\n",
      "/var/folders/qr/778czgkd1p7ch8wn4f6dmdkh0000gn/T/ipykernel_99928/3669310707.py:5: DtypeWarning: Columns (140,208,317,376,496,506,518,665) have mixed types. Specify dtype option on import or set low_memory=False.\n",
      "  df5 = pd.read_csv('/Users/seoihwan/Desktop/escuela/과기대/nyamnaym-jjeobjjeob/data/raw_data/2019년 건강검진조사.csv')\n",
      "/var/folders/qr/778czgkd1p7ch8wn4f6dmdkh0000gn/T/ipykernel_99928/3669310707.py:6: DtypeWarning: Columns (140,208,317,376,496,506,518,665) have mixed types. Specify dtype option on import or set low_memory=False.\n",
      "  df6 = pd.read_csv('/Users/seoihwan/Desktop/escuela/과기대/nyamnaym-jjeobjjeob/data/raw_data/2020년 건강검진조사.csv',encoding='cp949')\n",
      "/var/folders/qr/778czgkd1p7ch8wn4f6dmdkh0000gn/T/ipykernel_99928/3669310707.py:7: DtypeWarning: Columns (140,260,285,311,380,513,662,673) have mixed types. Specify dtype option on import or set low_memory=False.\n",
      "  df7 = pd.read_csv('/Users/seoihwan/Desktop/escuela/과기대/nyamnaym-jjeobjjeob/data/raw_data/2021년 건강검진조사.csv',encoding='cp949')\n"
     ]
    }
   ],
   "source": [
    "df1 = pd.read_csv('/Users/seoihwan/Desktop/escuela/과기대/nyamnaym-jjeobjjeob/data/당뇨 추가/2008_HE_DB.csv')\n",
    "df2 = pd.read_csv('/Users/seoihwan/Desktop/escuela/과기대/nyamnaym-jjeobjjeob/data/당뇨 추가/2009_HE_DB.csv',encoding='cp949')\n",
    "df3 = pd.read_csv('/Users/seoihwan/Desktop/escuela/과기대/nyamnaym-jjeobjjeob/data/당뇨 추가/2010_HE_DB.csv',encoding='cp949')\n",
    "df4 = pd.read_csv('/Users/seoihwan/Desktop/escuela/과기대/nyamnaym-jjeobjjeob/data/당뇨 추가/2015_HE_DB.csv',encoding='cp949')\n",
    "df5 = pd.read_csv('/Users/seoihwan/Desktop/escuela/과기대/nyamnaym-jjeobjjeob/data/raw_data/2019년 건강검진조사.csv')\n",
    "df6 = pd.read_csv('/Users/seoihwan/Desktop/escuela/과기대/nyamnaym-jjeobjjeob/data/raw_data/2020년 건강검진조사.csv',encoding='cp949')\n",
    "df7 = pd.read_csv('/Users/seoihwan/Desktop/escuela/과기대/nyamnaym-jjeobjjeob/data/raw_data/2021년 건강검진조사.csv',encoding='cp949')"
   ]
  },
  {
   "cell_type": "code",
   "execution_count": 26,
   "id": "1d077001",
   "metadata": {
    "scrolled": true
   },
   "outputs": [
    {
     "name": "stdout",
     "output_type": "stream",
     "text": [
      "(9744, 1163)\n",
      "(10533, 1197)\n",
      "(6241, 819)\n",
      "(5086, 13)\n",
      "(7359, 843)\n",
      "(7359, 843)\n",
      "(7090, 840)\n"
     ]
    }
   ],
   "source": [
    "print(df1.shape)\n",
    "print(df2.shape)\n",
    "print(df3.shape)\n",
    "print(df4.shape)\n",
    "print(df5.shape)\n",
    "print(df6.shape)\n",
    "print(df7.shape)"
   ]
  },
  {
   "cell_type": "code",
   "execution_count": 31,
   "id": "256e40cc",
   "metadata": {},
   "outputs": [
    {
     "name": "stderr",
     "output_type": "stream",
     "text": [
      "/var/folders/qr/778czgkd1p7ch8wn4f6dmdkh0000gn/T/ipykernel_99928/2030196750.py:1: SettingWithCopyWarning: \n",
      "A value is trying to be set on a copy of a slice from a DataFrame.\n",
      "Try using .loc[row_indexer,col_indexer] = value instead\n",
      "\n",
      "See the caveats in the documentation: https://pandas.pydata.org/pandas-docs/stable/user_guide/indexing.html#returning-a-view-versus-a-copy\n",
      "  df1['HE_LDL_drct']=0\n"
     ]
    }
   ],
   "source": [
    "df1['HE_LDL_drct']=0\n",
    "df1 = df1[df4.columns]\n",
    "df2 = df2[df4.columns]\n",
    "df3 = df3[df4.columns]\n",
    "df5 = df5[df4.columns]\n",
    "df6 = df6[df4.columns]\n",
    "df7 = df7[df4.columns]"
   ]
  },
  {
   "cell_type": "code",
   "execution_count": 33,
   "id": "c1d634e9",
   "metadata": {},
   "outputs": [
    {
     "name": "stdout",
     "output_type": "stream",
     "text": [
      "(9744, 13)\n",
      "(10533, 13)\n",
      "(6241, 13)\n",
      "(5086, 13)\n",
      "(7359, 13)\n",
      "(7359, 13)\n",
      "(7090, 13)\n"
     ]
    }
   ],
   "source": [
    "print(df1.shape)\n",
    "print(df2.shape)\n",
    "print(df3.shape)\n",
    "print(df4.shape)\n",
    "print(df5.shape)\n",
    "print(df6.shape)\n",
    "print(df7.shape)"
   ]
  },
  {
   "cell_type": "code",
   "execution_count": 35,
   "id": "a27d14aa",
   "metadata": {},
   "outputs": [],
   "source": [
    "df_all = pd.concat([df1,df2,df3,df4,df5,df6,df7])"
   ]
  },
  {
   "cell_type": "code",
   "execution_count": 36,
   "id": "1136596b",
   "metadata": {},
   "outputs": [],
   "source": [
    "df_all.to_csv('all_data.csv',encoding='cp949',index=False)"
   ]
  },
  {
   "cell_type": "code",
   "execution_count": 38,
   "id": "88df4ef3",
   "metadata": {},
   "outputs": [
    {
     "data": {
      "text/plain": [
       "age                0\n",
       "sex                0\n",
       "HE_LDL_drct    32248\n",
       "HE_HDL_st2      7809\n",
       "HE_insulin      7814\n",
       "HE_glu          7877\n",
       "HE_HbA1c       27761\n",
       "HE_BMI          2282\n",
       "HE_wt           2019\n",
       "HE_wc           2965\n",
       "HE_chol         7809\n",
       "HE_TG           7809\n",
       "HE_DM_HbA1c     5631\n",
       "dtype: int64"
      ]
     },
     "execution_count": 38,
     "metadata": {},
     "output_type": "execute_result"
    }
   ],
   "source": [
    "df_all.isnull().sum()"
   ]
  },
  {
   "cell_type": "code",
   "execution_count": null,
   "id": "9dac29da",
   "metadata": {},
   "outputs": [],
   "source": [
    "df_all[]"
   ]
  }
 ],
 "metadata": {
  "kernelspec": {
   "display_name": "Python 3 (ipykernel)",
   "language": "python",
   "name": "python3"
  },
  "language_info": {
   "codemirror_mode": {
    "name": "ipython",
    "version": 3
   },
   "file_extension": ".py",
   "mimetype": "text/x-python",
   "name": "python",
   "nbconvert_exporter": "python",
   "pygments_lexer": "ipython3",
   "version": "3.10.8"
  }
 },
 "nbformat": 4,
 "nbformat_minor": 5
}
